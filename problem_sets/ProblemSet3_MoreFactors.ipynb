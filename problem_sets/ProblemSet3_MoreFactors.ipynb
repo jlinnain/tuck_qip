{
 "cells": [
  {
   "cell_type": "markdown",
   "metadata": {},
   "source": [
    "# <span style='color:red'>Problem Set 3: More Factors</span>\n",
    "\n",
    "## Instructions:\n",
    "\n",
    "- **Make a copy of this notebook somewhere under the root-folder *except* for the shared-folder**\n",
    "  - In JHub we have read-only access to the material under /shared\n",
    "  - Everything else is associated with your Dartmouth ID and so only you can see them and they are permanent\n",
    "- Enter the answers on this notebook\n",
    "  - In most cases, you just need to execute the code and leave the output as it is\n",
    "- All of the code needed here can be found in Topic1_PythonBasics \n",
    "- In some cases, I ask you to explain something. In the cases, there is an extra markup cell (**ANSWER:**) that you can fill out \n",
    "- When you are done, select \"Print...\" from the File-menu and create an **HTML** version of the notebook\n",
    "  - Submit this notebook through canvas\n",
    "  - Please don't submit it as a notebook (.ipynb) file"
   ]
  },
  {
   "cell_type": "markdown",
   "metadata": {},
   "source": [
    "# Problem 1: Fama and French's Investment factor\n",
    "\n",
    "In Topic #4, we replicated Fama and French's value and size factors. We constructed this factor by:\n",
    "\n",
    "1. sorting all stocks into six portfolios by size and book-to-market  \n",
    "2. computing value-weighted returns on these portfolios (that is, the amount you invested in each stock is proportional to its market capitalization)\n",
    "3. computing the difference in average returns between the two value (\"high\") and growth (\"low\") portfolios\n",
    "\n",
    "From the dataset we created, it is equally easy to replicate Fama and French's investment factor. They call this factor CMA for \"Conservative minus Aggressive.\" This factor is constructed almost the same way as HML:\n",
    "\n",
    "1. sort all stocks into six portfolios by size and **investment**  \n",
    "2. compute value-weighted returns on these portfolios (that is, the amount you invested in each stock is proportional to its market capitalization)\n",
    "3. compute the difference in average returns between the two conservative (\"low\") and aggressive (\"high\") portfolios\n",
    "\n",
    "So, we only need to swap **beme** for something else and, at the end take the difference low-minus-high instead of high-minus-low.\n",
    "\n",
    "In Topic #4, we define **beme** like this:\n",
    "\n",
    "```\n",
    "cs_crsp['beme'] = cs_crsp['be'] / cs_crsp['me']\n",
    "negative_be = cs_crsp['be'] < 0\n",
    "cs_crsp.loc[negative_be, 'beme'] = np.nan\n",
    "```\n",
    "\n",
    "Replace these lines with this:\n",
    "\n",
    "```\n",
    "cs_crsp['asset_growth'] = cs_crsp['at'] / cs_crsp.groupby(level='permno')['at'].shift(12)\n",
    "bad_data = (cs_crsp['at'] <= 0) | (cs_crsp.groupby(level='permno')['at'].shift(12) <= 0) \n",
    "cs_crsp.loc[bad_data, 'asset_growth'] = np.nan\n",
    "```\n",
    "\n",
    "The ```bad_data``` part is about taking out observations where we have 0 or negative total assets -- which is probably a data error.\n",
    "\n",
    "If you then replace **beme** with **asset_growth** in the code, it'll create the six portfolios for you. You can then define the ```cma``` as a similar difference in portfolio returns. \n",
    "\n",
    "### a) What is this factor's Sharpe ratio from the beginning of the data until 2007-06?"
   ]
  },
  {
   "cell_type": "code",
   "execution_count": null,
   "metadata": {},
   "outputs": [],
   "source": []
  },
  {
   "cell_type": "code",
   "execution_count": null,
   "metadata": {},
   "outputs": [],
   "source": []
  },
  {
   "cell_type": "markdown",
   "metadata": {},
   "source": [
    "### b) What is this factor's correlation with Fama and French's CMA factor?\n",
    "\n",
    "(We want to check whether our replication gets close.)"
   ]
  },
  {
   "cell_type": "code",
   "execution_count": null,
   "metadata": {},
   "outputs": [],
   "source": []
  },
  {
   "cell_type": "markdown",
   "metadata": {
    "tags": []
   },
   "source": [
    "### c) What is this factor's annualized alpha (and t-value) in the three-factor model regression?\n",
    "\n",
    "In Topic #4 code, we estimate this regression for UMD. Estimate this regression for your CMA factor. This regression has these three factors on the RHS: Mkt-RF, SMB, and HML.\n",
    "\n",
    "Notes: \n",
    "\n",
    "- In the regression output alpha is reported on the line that reads ```const```\n",
    "- Because we use *monthly* data and everything is in decimals, a number such as 0.001 would indicate that the *annualized* alpha is 12 * 0.1% = 1.2% "
   ]
  },
  {
   "cell_type": "code",
   "execution_count": null,
   "metadata": {},
   "outputs": [],
   "source": []
  },
  {
   "cell_type": "markdown",
   "metadata": {},
   "source": [
    "# Problem 2: Novy-Marx's Gross Profitability\n",
    "\n",
    "Another big predictive variable for stock returns is profitability. Fama and French define profitability based on firms' operating profits. Novy-Marx measured firms' **gross profitability** to create his **GP** factor.\n",
    "\n",
    "The construction of this factor is again similar to the HML factor. The only difference is that, instead of sorting on BEME, we sort on gross profitability, which is defined as:\n",
    "\n",
    "(sales - cost of goods sold) / total assets\n",
    "\n",
    "to create this variable, you can replace the construction of **beme** with these lines of code:\n",
    "\n",
    "```\n",
    "cs_crsp['gross_profitability'] = (cs_crsp['sale'] - cs_crsp['cogs']) / cs_crsp['at']\n",
    "bad_data = cs_crsp['at'] <= 0 \n",
    "cs_crsp.loc[bad_data, 'gross_profitability'] = np.nan\n",
    "```\n",
    "\n",
    "Make these changes and create the **GP** factor.\n",
    "\n",
    "### a) What is this factor's Sharpe ratio in the sample until 2007-06?"
   ]
  },
  {
   "cell_type": "code",
   "execution_count": null,
   "metadata": {},
   "outputs": [],
   "source": []
  },
  {
   "cell_type": "markdown",
   "metadata": {},
   "source": [
    "### b) What is this factor's annualized alpha in the three-factor model?"
   ]
  },
  {
   "cell_type": "code",
   "execution_count": null,
   "metadata": {},
   "outputs": [],
   "source": []
  }
 ],
 "metadata": {
  "kernelspec": {
   "display_name": "Python 3 (ipykernel)",
   "language": "python",
   "name": "python3"
  },
  "language_info": {
   "codemirror_mode": {
    "name": "ipython",
    "version": 3
   },
   "file_extension": ".py",
   "mimetype": "text/x-python",
   "name": "python",
   "nbconvert_exporter": "python",
   "pygments_lexer": "ipython3",
   "version": "3.10.6"
  }
 },
 "nbformat": 4,
 "nbformat_minor": 4
}
