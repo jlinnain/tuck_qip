{
 "cells": [
  {
   "cell_type": "markdown",
   "metadata": {},
   "source": [
    "# <span style='color:red'>Problem Set 1: Python Basics</span>\n",
    "\n",
    "## Instructions:\n",
    "\n",
    "- **Make a copy of this notebook somewhere under the root-folder *except* for the shared-folder**\n",
    "  - In JHub we have read-only access to the material under /shared\n",
    "  - Everything else is associated with your Dartmouth ID and so only you can see them and they are permanent\n",
    "- Enter the answers on this notebook\n",
    "  - In most cases, you just need to execute the code and leave the output as it is\n",
    "- All of the code needed here can be found in Topic1_PythonBasics \n",
    "- In some cases, I ask you to explain something. In the cases, there is an extra markup cell (**ANSWER:**) that you can fill out \n",
    "- When you are done, select \"Print...\" from the File-menu and create an **HTML** version of the notebook\n",
    "  - Submit this notebook through canvas\n",
    "  - Please don't submit it as a notebook (.ipynb) file"
   ]
  },
  {
   "cell_type": "markdown",
   "metadata": {},
   "source": [
    "## Problem 1\n",
    "\n",
    "### a. Assign string \"Quantitative\" (without the quotation marks) to variable **S** and use the print statement to print this string"
   ]
  },
  {
   "cell_type": "code",
   "execution_count": null,
   "metadata": {},
   "outputs": [],
   "source": []
  },
  {
   "cell_type": "markdown",
   "metadata": {},
   "source": [
    "### b. Assign string \" Finance\" to variable **T**. In Python, you can join strings using the + symbol. Let's try this out. After creating these two variables, print S + T"
   ]
  },
  {
   "cell_type": "code",
   "execution_count": null,
   "metadata": {},
   "outputs": [],
   "source": []
  },
  {
   "cell_type": "markdown",
   "metadata": {},
   "source": [
    "### c. \"Slicing\" in Python refers to accessing continuous range of elements. It is very useful in handling data, e.g., when you want to have all data from some start date to some end date. We can also slice strings: each character is its own element\n",
    "\n",
    "The syntax for slicing is *var*[start:stop], where 'start' indicates the first element we include and 'stop' indicates the element *before* which we stop\n",
    "\n",
    "Below, slice variable **S** using the following start and stop values:\n",
    "\n",
    "- start = 1, stop = 5. (That is, write and execute S[1:5])\n",
    "- start = 0, stop = 5\n",
    "\n",
    "Based on these, what is the index of the first element -- that is, letter 'Q' -- in our case?"
   ]
  },
  {
   "cell_type": "code",
   "execution_count": null,
   "metadata": {},
   "outputs": [],
   "source": []
  },
  {
   "cell_type": "markdown",
   "metadata": {},
   "source": [
    "**Answer:** "
   ]
  },
  {
   "cell_type": "markdown",
   "metadata": {},
   "source": [
    "### d. Using the ```range()``` generator, first create a list of all numbers from 10 to 100. The command will look something like ```my_list = list(range(5, 105))```, where you just need to adjust the start and stop values. After this, write ```print(my_list[0:51:2])```. Try changing ```2``` to some other value. What does this last argument do? "
   ]
  },
  {
   "cell_type": "code",
   "execution_count": null,
   "metadata": {},
   "outputs": [],
   "source": []
  },
  {
   "cell_type": "markdown",
   "metadata": {},
   "source": [
    "**Answer:** "
   ]
  },
  {
   "cell_type": "markdown",
   "metadata": {},
   "source": [
    "## Problem 2\n",
    "\n",
    "- Create a list that contains values 1, 1, 2, 3, 5, 8, and 13\n",
    "- Loop through this list, and print each value multiplied by 2. That is, the output should read: 2, 2, 4, 6,..."
   ]
  },
  {
   "cell_type": "code",
   "execution_count": null,
   "metadata": {},
   "outputs": [],
   "source": []
  },
  {
   "cell_type": "markdown",
   "metadata": {},
   "source": [
    "## Problem 3\n",
    "\n",
    "### a. Create a dictionary called **D** that contains names and scores for four students: Andy, Brett, Cindy, and Dave (make up the scores)\n",
    "\n",
    "Write and execute D['Brett'] to display the Brett's score "
   ]
  },
  {
   "cell_type": "code",
   "execution_count": null,
   "metadata": {},
   "outputs": [],
   "source": []
  },
  {
   "cell_type": "markdown",
   "metadata": {},
   "source": [
    "### b. Write and execute D['Erica']. What happens?"
   ]
  },
  {
   "cell_type": "code",
   "execution_count": null,
   "metadata": {},
   "outputs": [],
   "source": []
  },
  {
   "cell_type": "markdown",
   "metadata": {},
   "source": [
    "**Answer:** "
   ]
  },
  {
   "cell_type": "markdown",
   "metadata": {},
   "source": [
    "### c. Write and execute D.get('Erica') and D.get('Erica', 0)\n",
    "\n",
    "Why would this 'get' statement be useful when you write code and use dictionaries?"
   ]
  },
  {
   "cell_type": "code",
   "execution_count": null,
   "metadata": {},
   "outputs": [],
   "source": []
  },
  {
   "cell_type": "code",
   "execution_count": null,
   "metadata": {},
   "outputs": [],
   "source": []
  },
  {
   "cell_type": "markdown",
   "metadata": {},
   "source": [
    "**Answer:** "
   ]
  },
  {
   "cell_type": "markdown",
   "metadata": {},
   "source": [
    "## Problem 4\n",
    "\n",
    "### a. The following code downloads some data from Yahoo finance. \n",
    "\n",
    "Modify and then execute this code so that it downloads data for IBM, General Electric, and Gamestop instead\n",
    "\n",
    "- You need to look up these companies' tickers symbols"
   ]
  },
  {
   "cell_type": "code",
   "execution_count": null,
   "metadata": {},
   "outputs": [],
   "source": [
    "import pandas as pd\n",
    "import yfinance as yf\n",
    "from datetime import datetime\n",
    "\n",
    "# Create a list that contains the tickers we want to retrieve\n",
    "ticker_symbols = ['AAPL', 'MSFT', 'GOOGL']\n",
    "\n",
    "# Define the start and end dates for the data\n",
    "start_date = datetime(2019,1,1)\n",
    "end_date = datetime.today()    \n",
    "\n",
    "stock_data = yf.download(ticker_symbols, start=start_date, end=end_date)\n",
    "    \n",
    "stock_returns = 100 * stock_data.xs('Close', axis=1, level=0).pct_change()\n",
    "\n",
    "display(stock_returns.tail(5))"
   ]
  },
  {
   "cell_type": "markdown",
   "metadata": {},
   "source": [
    "## MODIFIED CODE:"
   ]
  },
  {
   "cell_type": "code",
   "execution_count": null,
   "metadata": {},
   "outputs": [],
   "source": []
  },
  {
   "cell_type": "markdown",
   "metadata": {},
   "source": [
    "### b. Run the code below to get \"summary statistics\" for daily returns\n",
    "\n",
    "These daily returns are expressed in percentages, e.g., a value of 0.14 for the mean would indicate that the average return is 0.14% per day\n",
    "\n",
    "- Which stock had the highest mean return over this sample period?\n",
    "\n",
    "- Which stock had the highest one-day return over this sample period? How high was this return?"
   ]
  },
  {
   "cell_type": "code",
   "execution_count": null,
   "metadata": {},
   "outputs": [],
   "source": [
    "stock_returns.describe()"
   ]
  },
  {
   "cell_type": "markdown",
   "metadata": {},
   "source": [
    "**Answer:** \n",
    "\n"
   ]
  },
  {
   "cell_type": "markdown",
   "metadata": {},
   "source": [
    "### c. The code below computes monthly stock returns and prints summary statistics for these returns\n",
    "\n",
    "Which stock was the most volatile, that is, which stock has the highest 'std'?"
   ]
  },
  {
   "cell_type": "code",
   "execution_count": null,
   "metadata": {},
   "outputs": [],
   "source": [
    "monthly_stock_returns = 100 * ((1 + stock_data.xs('Close', axis=1, level=0).pct_change()).resample('M').prod() - 1)\n",
    "monthly_stock_returns.describe()"
   ]
  },
  {
   "cell_type": "markdown",
   "metadata": {},
   "source": [
    "**Answer:** \n",
    "\n"
   ]
  },
  {
   "cell_type": "markdown",
   "metadata": {},
   "source": [
    "### d. Execute the code below to plot the cumulative returns for the three stocks over the sample period\n",
    "\n",
    "The 'figsize' argument controls the shape of the plot. With a tuple (8, 10), the plot is 8 inches wide and 10 inches high. \n",
    "- Change this argument so that the plot looks nice.\n",
    "- Also add a title to the chart by adding ```, title='your title here'``` inside the ```plot()``` to label the chart\n",
    "\n",
    "Note: \n",
    "- The command below does 'method chaining' -- the line first computes the cumulative product of 1 + returns and the plots the result\n",
    "  - If the daily returns are 1%, 3%, -5%,... the cumulative return would be (1 + 1%) * (1 + 3%) * (1 + -5%) - 1. \n",
    "  - The code below first converts returns to decimals, adds one, and takes the cumulative product\n",
    "  - It then subtracts of 1 and plots the resulting ```Series```\n",
    "- We *could* do this in a few steps\n",
    "- But we often do method chaining in Python if we don't really need to save the intermediate results"
   ]
  },
  {
   "cell_type": "code",
   "execution_count": null,
   "metadata": {},
   "outputs": [],
   "source": [
    "((1 + stock_returns / 100).cumprod() - 1).plot(figsize=(8,10))"
   ]
  },
  {
   "cell_type": "markdown",
   "metadata": {},
   "source": [
    "### MODIFIED CODE HERE:"
   ]
  },
  {
   "cell_type": "code",
   "execution_count": null,
   "metadata": {},
   "outputs": [],
   "source": []
  },
  {
   "cell_type": "markdown",
   "metadata": {},
   "source": [
    "### e. The command below computes return correlations between the three stocks. The results are displayed in a symmetric 3x3 table \n",
    "\n",
    "Correlations are important in that they tell us how closely different stocks track each other\n",
    "\n",
    "- A number of 1.0 would indicate that the two stocks always move in perfect proportion to each other\n",
    "- A number of -1.0 would indicate that the two stocks always move in *opposite directions* in perfect proportion\n",
    "- A number of 0 would indicates that the two stocks are uncorrelated (think \"unrelated\")\n",
    "\n",
    "Which two stocks display the highest correlation?\n",
    "\n",
    "Which two stocks display the lowest correlation?"
   ]
  },
  {
   "cell_type": "code",
   "execution_count": null,
   "metadata": {},
   "outputs": [],
   "source": [
    "stock_returns.corr().round(2)"
   ]
  },
  {
   "cell_type": "markdown",
   "metadata": {},
   "source": [
    "**Answer:** "
   ]
  }
 ],
 "metadata": {
  "kernelspec": {
   "display_name": "Python 3",
   "language": "python",
   "name": "python3"
  },
  "language_info": {
   "codemirror_mode": {
    "name": "ipython",
    "version": 3
   },
   "file_extension": ".py",
   "mimetype": "text/x-python",
   "name": "python",
   "nbconvert_exporter": "python",
   "pygments_lexer": "ipython3",
   "version": "3.8.18"
  }
 },
 "nbformat": 4,
 "nbformat_minor": 4
}
