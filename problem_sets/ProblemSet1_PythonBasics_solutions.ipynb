{
 "cells": [
  {
   "cell_type": "markdown",
   "metadata": {},
   "source": [
    "# <span style='color:red'>Problem Set 1: Python Basics</span>\n",
    "\n",
    "## Instructions:\n",
    "\n",
    "- **Make a copy of this notebook somewhere under the root-folder *except* for the shared-folder**\n",
    "  - In JHub we have read-only access to the material under /shared\n",
    "  - Everything else is associated with your Dartmouth ID and so only you can see them and they are permanent\n",
    "- Enter the answers on this notebook\n",
    "  - In most cases, you just need to execute the code and leave the output as it is\n",
    "- All of the code needed here can be found in Topic1_PythonBasics \n",
    "- In some cases, I ask you to explain something. In the cases, there is an extra markup cell (**ANSWER:**) that you can fill out \n",
    "- When you are done, select \"Print...\" from the File-menu and create an **HTML** version of the notebook\n",
    "  - Submit this notebook through canvas\n",
    "  - Please don't submit it as a notebook (.ipynb) file"
   ]
  },
  {
   "cell_type": "markdown",
   "metadata": {},
   "source": [
    "## Problem 1\n",
    "\n",
    "### a. Assign string \"Quantitative\" (without the quotation marks) to variable **S** and use the print statement to print this string"
   ]
  },
  {
   "cell_type": "code",
   "execution_count": 2,
   "metadata": {},
   "outputs": [
    {
     "name": "stdout",
     "output_type": "stream",
     "text": [
      "Quantitative\n"
     ]
    }
   ],
   "source": [
    "S = 'Quantitative'\n",
    "print(S)"
   ]
  },
  {
   "cell_type": "markdown",
   "metadata": {},
   "source": [
    "### b. Assign string \" Finance\" to variable **T**. In Python, you can join strings using the + symbol. Let's try this out. After creating these two variables, print S + T"
   ]
  },
  {
   "cell_type": "code",
   "execution_count": 3,
   "metadata": {},
   "outputs": [
    {
     "name": "stdout",
     "output_type": "stream",
     "text": [
      "Quantitative Finance\n"
     ]
    }
   ],
   "source": [
    "T = ' Finance'\n",
    "print(S + T)"
   ]
  },
  {
   "cell_type": "markdown",
   "metadata": {},
   "source": [
    "### c. \"Slicing\" in Python refers to accessing continuous range of elements. It is very useful in handling data, e.g., when you want to have all data from some start date to some end date. We can also slice strings: each character is its own element\n",
    "\n",
    "The syntax for slicing is *var*[start:stop], where 'start' indicates the first element we include and 'stop' indicates the element *before* which we stop\n",
    "\n",
    "Below, slice variable **S** using the following start and stop values:\n",
    "\n",
    "- start = 1, stop = 5. (That is, write and execute S[1:5])\n",
    "- start = 0, stop = 5\n",
    "\n",
    "Based on these, what is the index of the first element -- that is, letter 'Q' -- in our case?"
   ]
  },
  {
   "cell_type": "code",
   "execution_count": 5,
   "metadata": {},
   "outputs": [
    {
     "name": "stdout",
     "output_type": "stream",
     "text": [
      "uant\n",
      "Quant\n"
     ]
    }
   ],
   "source": [
    "print(S[1:5])\n",
    "print(S[0:5])"
   ]
  },
  {
   "cell_type": "markdown",
   "metadata": {},
   "source": [
    "**Answer:** Its index is 0"
   ]
  },
  {
   "cell_type": "markdown",
   "metadata": {},
   "source": [
    "### d. Using the ```range()``` generator, first create a list of all numbers from 10 to 100. The command will look something like ```my_list = list(range(5, 105))```, where you just need to adjust the start and stop values. After this, write ```print(my_list[0:51:2])```. Try changing ```2``` to some other value. What does this last argument do? "
   ]
  },
  {
   "cell_type": "code",
   "execution_count": 6,
   "metadata": {},
   "outputs": [
    {
     "name": "stdout",
     "output_type": "stream",
     "text": [
      "[10, 11, 12, 13, 14, 15, 16, 17, 18, 19, 20, 21, 22, 23, 24, 25, 26, 27, 28, 29, 30, 31, 32, 33, 34, 35, 36, 37, 38, 39, 40, 41, 42, 43, 44, 45, 46, 47, 48, 49, 50, 51, 52, 53, 54, 55, 56, 57, 58, 59, 60, 61, 62, 63, 64, 65, 66, 67, 68, 69, 70, 71, 72, 73, 74, 75, 76, 77, 78, 79, 80, 81, 82, 83, 84, 85, 86, 87, 88, 89, 90, 91, 92, 93, 94, 95, 96, 97, 98, 99, 100]\n"
     ]
    }
   ],
   "source": [
    "my_list = list(range(10,101))\n",
    "print(my_list)"
   ]
  },
  {
   "cell_type": "code",
   "execution_count": 9,
   "metadata": {},
   "outputs": [
    {
     "name": "stdout",
     "output_type": "stream",
     "text": [
      "[10, 12, 14, 16, 18, 20, 22, 24, 26, 28, 30, 32, 34, 36, 38, 40, 42, 44, 46, 48, 50, 52, 54, 56, 58, 60]\n"
     ]
    }
   ],
   "source": [
    "print(my_list[0:51:2])"
   ]
  },
  {
   "cell_type": "markdown",
   "metadata": {},
   "source": [
    "**Answer:** The last argument (here, ```2```) to determines the step size. We start from the first element, then step forward in increments of ```2``` and *stop* before we reach the stop value (here, ```51```)."
   ]
  },
  {
   "cell_type": "markdown",
   "metadata": {},
   "source": [
    "## Problem 2\n",
    "\n",
    "- Create a list that contains values 1, 1, 2, 3, 5, 8, and 13\n",
    "- Loop through this list, and print each value multiplied by 2. That is, the output should read: 2, 2, 4, 6,..."
   ]
  },
  {
   "cell_type": "code",
   "execution_count": 10,
   "metadata": {},
   "outputs": [
    {
     "name": "stdout",
     "output_type": "stream",
     "text": [
      "2\n",
      "2\n",
      "4\n",
      "6\n",
      "10\n",
      "16\n",
      "26\n"
     ]
    }
   ],
   "source": [
    "L = [1, 1, 2, 3, 5, 8, 13]\n",
    "for value in L:\n",
    "    print(2 * value)"
   ]
  },
  {
   "cell_type": "markdown",
   "metadata": {},
   "source": [
    "## Problem 3\n",
    "\n",
    "### a. Create a dictionary called **D** that contains names and scores for four students: Andy, Brett, Cindy, and Dave (make up the scores)\n",
    "\n",
    "Write and execute D['Brett'] to display the Brett's score "
   ]
  },
  {
   "cell_type": "code",
   "execution_count": 12,
   "metadata": {},
   "outputs": [
    {
     "data": {
      "text/plain": [
       "13"
      ]
     },
     "execution_count": 12,
     "metadata": {},
     "output_type": "execute_result"
    }
   ],
   "source": [
    "D = {\n",
    "    'Andy': 10,\n",
    "    'Brett': 13,\n",
    "    'Cindy': 17,\n",
    "    'Dave': 11\n",
    "}\n",
    "\n",
    "D['Brett']"
   ]
  },
  {
   "cell_type": "markdown",
   "metadata": {},
   "source": [
    "### b. Write and execute D['Erica']. What happens?"
   ]
  },
  {
   "cell_type": "code",
   "execution_count": 13,
   "metadata": {},
   "outputs": [
    {
     "ename": "KeyError",
     "evalue": "'Erica'",
     "output_type": "error",
     "traceback": [
      "\u001b[0;31m---------------------------------------------------------------------------\u001b[0m",
      "\u001b[0;31mKeyError\u001b[0m                                  Traceback (most recent call last)",
      "\u001b[0;32m<ipython-input-13-30f0e5efc0b9>\u001b[0m in \u001b[0;36m<module>\u001b[0;34m\u001b[0m\n\u001b[0;32m----> 1\u001b[0;31m \u001b[0mD\u001b[0m\u001b[0;34m[\u001b[0m\u001b[0;34m'Erica'\u001b[0m\u001b[0;34m]\u001b[0m\u001b[0;34m\u001b[0m\u001b[0;34m\u001b[0m\u001b[0m\n\u001b[0m",
      "\u001b[0;31mKeyError\u001b[0m: 'Erica'"
     ]
    }
   ],
   "source": [
    "D['Erica']"
   ]
  },
  {
   "cell_type": "markdown",
   "metadata": {},
   "source": [
    "**Answer:** Because we don't have key ```Erica``` in the dictionary, we get a ```KeyError```"
   ]
  },
  {
   "cell_type": "markdown",
   "metadata": {},
   "source": [
    "### c. Write and execute D.get('Erica') and D.get('Erica', 0)\n",
    "\n",
    "Why would this 'get' statement be useful when you write code and use dictionaries?"
   ]
  },
  {
   "cell_type": "code",
   "execution_count": 14,
   "metadata": {},
   "outputs": [],
   "source": [
    "D.get('Erica')"
   ]
  },
  {
   "cell_type": "code",
   "execution_count": 15,
   "metadata": {},
   "outputs": [
    {
     "data": {
      "text/plain": [
       "0"
      ]
     },
     "execution_count": 15,
     "metadata": {},
     "output_type": "execute_result"
    }
   ],
   "source": [
    "D.get('Erica', 0)"
   ]
  },
  {
   "cell_type": "markdown",
   "metadata": {},
   "source": [
    "**Answer:** ```<dictionary>.get(key)``` tries to retrieve ```key``` from the dictionary. If the key doesn't exist, it returns ```None``` by default. But you can also specify what to return in the case the key isn't found. \n",
    "\n",
    "This is useful for handling cases where there is a default outcome that you want to specify when the key hasn't been populated. We could also just check whether a key exists and do it like this:   \n",
    "\n",
    "```\n",
    "if 'Erica' in D:\n",
    "    print(D['Erica'])\n",
    "else:\n",
    "    print(0)\n",
    "```\n",
    "\n",
    "But the ```.get()``` method makes things cleaner."
   ]
  },
  {
   "cell_type": "markdown",
   "metadata": {},
   "source": [
    "## Problem 4\n",
    "\n",
    "### a. The following code downloads some data from Yahoo finance. \n",
    "\n",
    "Modify and then execute this code so that it downloads data for IBM, General Electric, and Gamestop instead\n",
    "\n",
    "- You need to look up these companies' tickers symbols"
   ]
  },
  {
   "cell_type": "code",
   "execution_count": 19,
   "metadata": {},
   "outputs": [
    {
     "name": "stderr",
     "output_type": "stream",
     "text": [
      "[*********************100%***********************]  3 of 3 completed\n"
     ]
    },
    {
     "data": {
      "text/html": [
       "<div>\n",
       "<style scoped>\n",
       "    .dataframe tbody tr th:only-of-type {\n",
       "        vertical-align: middle;\n",
       "    }\n",
       "\n",
       "    .dataframe tbody tr th {\n",
       "        vertical-align: top;\n",
       "    }\n",
       "\n",
       "    .dataframe thead th {\n",
       "        text-align: right;\n",
       "    }\n",
       "</style>\n",
       "<table border=\"1\" class=\"dataframe\">\n",
       "  <thead>\n",
       "    <tr style=\"text-align: right;\">\n",
       "      <th>Ticker</th>\n",
       "      <th>AAPL</th>\n",
       "      <th>GOOGL</th>\n",
       "      <th>MSFT</th>\n",
       "    </tr>\n",
       "    <tr>\n",
       "      <th>Date</th>\n",
       "      <th></th>\n",
       "      <th></th>\n",
       "      <th></th>\n",
       "    </tr>\n",
       "  </thead>\n",
       "  <tbody>\n",
       "    <tr>\n",
       "      <th>2024-12-31</th>\n",
       "      <td>-0.705789</td>\n",
       "      <td>-1.014433</td>\n",
       "      <td>-0.783840</td>\n",
       "    </tr>\n",
       "    <tr>\n",
       "      <th>2025-01-02</th>\n",
       "      <td>-2.623589</td>\n",
       "      <td>0.068669</td>\n",
       "      <td>-0.692767</td>\n",
       "    </tr>\n",
       "    <tr>\n",
       "      <th>2025-01-03</th>\n",
       "      <td>-0.200945</td>\n",
       "      <td>1.245843</td>\n",
       "      <td>1.139572</td>\n",
       "    </tr>\n",
       "    <tr>\n",
       "      <th>2025-01-06</th>\n",
       "      <td>0.673898</td>\n",
       "      <td>2.648731</td>\n",
       "      <td>1.062950</td>\n",
       "    </tr>\n",
       "    <tr>\n",
       "      <th>2025-01-07</th>\n",
       "      <td>-0.377552</td>\n",
       "      <td>0.436837</td>\n",
       "      <td>-0.507190</td>\n",
       "    </tr>\n",
       "  </tbody>\n",
       "</table>\n",
       "</div>"
      ],
      "text/plain": [
       "Ticker          AAPL     GOOGL      MSFT\n",
       "Date                                    \n",
       "2024-12-31 -0.705789 -1.014433 -0.783840\n",
       "2025-01-02 -2.623589  0.068669 -0.692767\n",
       "2025-01-03 -0.200945  1.245843  1.139572\n",
       "2025-01-06  0.673898  2.648731  1.062950\n",
       "2025-01-07 -0.377552  0.436837 -0.507190"
      ]
     },
     "metadata": {},
     "output_type": "display_data"
    }
   ],
   "source": [
    "import pandas as pd\n",
    "import yfinance as yf\n",
    "from datetime import datetime\n",
    "\n",
    "# Create a list that contains the tickers we want to retrieve\n",
    "ticker_symbols = ['AAPL', 'MSFT', 'GOOGL']\n",
    "\n",
    "# Define the start and end dates for the data\n",
    "start_date = datetime(2019,1,1)\n",
    "end_date = datetime.today()    \n",
    "\n",
    "stock_data = yf.download(ticker_symbols, start=start_date, end=end_date)\n",
    "    \n",
    "stock_returns = 100 * stock_data.xs('Close', axis=1, level=0).pct_change()\n",
    "\n",
    "display(stock_returns.tail(5))"
   ]
  },
  {
   "cell_type": "markdown",
   "metadata": {},
   "source": [
    "## MODIFIED CODE:"
   ]
  },
  {
   "cell_type": "code",
   "execution_count": 20,
   "metadata": {},
   "outputs": [
    {
     "name": "stderr",
     "output_type": "stream",
     "text": [
      "[*********************100%***********************]  3 of 3 completed\n"
     ]
    },
    {
     "data": {
      "text/html": [
       "<div>\n",
       "<style scoped>\n",
       "    .dataframe tbody tr th:only-of-type {\n",
       "        vertical-align: middle;\n",
       "    }\n",
       "\n",
       "    .dataframe tbody tr th {\n",
       "        vertical-align: top;\n",
       "    }\n",
       "\n",
       "    .dataframe thead th {\n",
       "        text-align: right;\n",
       "    }\n",
       "</style>\n",
       "<table border=\"1\" class=\"dataframe\">\n",
       "  <thead>\n",
       "    <tr style=\"text-align: right;\">\n",
       "      <th>Ticker</th>\n",
       "      <th>GE</th>\n",
       "      <th>GME</th>\n",
       "      <th>IBM</th>\n",
       "    </tr>\n",
       "    <tr>\n",
       "      <th>Date</th>\n",
       "      <th></th>\n",
       "      <th></th>\n",
       "      <th></th>\n",
       "    </tr>\n",
       "  </thead>\n",
       "  <tbody>\n",
       "    <tr>\n",
       "      <th>2024-12-31</th>\n",
       "      <td>-0.779306</td>\n",
       "      <td>-2.093090</td>\n",
       "      <td>-0.190692</td>\n",
       "    </tr>\n",
       "    <tr>\n",
       "      <th>2025-01-02</th>\n",
       "      <td>1.079203</td>\n",
       "      <td>-2.169752</td>\n",
       "      <td>0.050039</td>\n",
       "    </tr>\n",
       "    <tr>\n",
       "      <th>2025-01-03</th>\n",
       "      <td>1.998939</td>\n",
       "      <td>3.228962</td>\n",
       "      <td>1.232150</td>\n",
       "    </tr>\n",
       "    <tr>\n",
       "      <th>2025-01-06</th>\n",
       "      <td>0.284944</td>\n",
       "      <td>3.696683</td>\n",
       "      <td>0.008985</td>\n",
       "    </tr>\n",
       "    <tr>\n",
       "      <th>2025-01-07</th>\n",
       "      <td>0.037694</td>\n",
       "      <td>-1.645341</td>\n",
       "      <td>1.322588</td>\n",
       "    </tr>\n",
       "  </tbody>\n",
       "</table>\n",
       "</div>"
      ],
      "text/plain": [
       "Ticker            GE       GME       IBM\n",
       "Date                                    \n",
       "2024-12-31 -0.779306 -2.093090 -0.190692\n",
       "2025-01-02  1.079203 -2.169752  0.050039\n",
       "2025-01-03  1.998939  3.228962  1.232150\n",
       "2025-01-06  0.284944  3.696683  0.008985\n",
       "2025-01-07  0.037694 -1.645341  1.322588"
      ]
     },
     "metadata": {},
     "output_type": "display_data"
    }
   ],
   "source": [
    "import pandas as pd\n",
    "import yfinance as yf\n",
    "from datetime import datetime\n",
    "\n",
    "# Create a list that contains the tickers we want to retrieve\n",
    "ticker_symbols = ['IBM', 'GE', 'GME']\n",
    "\n",
    "# Define the start and end dates for the data\n",
    "start_date = datetime(2019,1,1)\n",
    "end_date = datetime.today()    \n",
    "\n",
    "stock_data = yf.download(ticker_symbols, start=start_date, end=end_date)\n",
    "    \n",
    "stock_returns = 100 * stock_data.xs('Close', axis=1, level=0).pct_change()\n",
    "\n",
    "display(stock_returns.tail(5))"
   ]
  },
  {
   "cell_type": "markdown",
   "metadata": {},
   "source": [
    "### b. Run the code below to get \"summary statistics\" for daily returns\n",
    "\n",
    "These daily returns are expressed in percentages, e.g., a value of 0.14 for the mean would indicate that the average return is 0.14% per day\n",
    "\n",
    "- Which stock had the highest mean return over this sample period?\n",
    "\n",
    "- Which stock had the highest one-day return over this sample period? How high was this return?"
   ]
  },
  {
   "cell_type": "code",
   "execution_count": 21,
   "metadata": {},
   "outputs": [
    {
     "data": {
      "text/html": [
       "<div>\n",
       "<style scoped>\n",
       "    .dataframe tbody tr th:only-of-type {\n",
       "        vertical-align: middle;\n",
       "    }\n",
       "\n",
       "    .dataframe tbody tr th {\n",
       "        vertical-align: top;\n",
       "    }\n",
       "\n",
       "    .dataframe thead th {\n",
       "        text-align: right;\n",
       "    }\n",
       "</style>\n",
       "<table border=\"1\" class=\"dataframe\">\n",
       "  <thead>\n",
       "    <tr style=\"text-align: right;\">\n",
       "      <th>Ticker</th>\n",
       "      <th>GE</th>\n",
       "      <th>GME</th>\n",
       "      <th>IBM</th>\n",
       "    </tr>\n",
       "  </thead>\n",
       "  <tbody>\n",
       "    <tr>\n",
       "      <th>count</th>\n",
       "      <td>1513.000000</td>\n",
       "      <td>1513.000000</td>\n",
       "      <td>1513.000000</td>\n",
       "    </tr>\n",
       "    <tr>\n",
       "      <th>mean</th>\n",
       "      <td>0.131837</td>\n",
       "      <td>0.523190</td>\n",
       "      <td>0.078563</td>\n",
       "    </tr>\n",
       "    <tr>\n",
       "      <th>std</th>\n",
       "      <td>2.493789</td>\n",
       "      <td>9.281810</td>\n",
       "      <td>1.621035</td>\n",
       "    </tr>\n",
       "    <tr>\n",
       "      <th>min</th>\n",
       "      <td>-15.159217</td>\n",
       "      <td>-60.000000</td>\n",
       "      <td>-12.850712</td>\n",
       "    </tr>\n",
       "    <tr>\n",
       "      <th>25%</th>\n",
       "      <td>-1.106206</td>\n",
       "      <td>-2.814816</td>\n",
       "      <td>-0.647202</td>\n",
       "    </tr>\n",
       "    <tr>\n",
       "      <th>50%</th>\n",
       "      <td>0.093607</td>\n",
       "      <td>-0.240969</td>\n",
       "      <td>0.107767</td>\n",
       "    </tr>\n",
       "    <tr>\n",
       "      <th>75%</th>\n",
       "      <td>1.283354</td>\n",
       "      <td>2.551022</td>\n",
       "      <td>0.819477</td>\n",
       "    </tr>\n",
       "    <tr>\n",
       "      <th>max</th>\n",
       "      <td>14.729964</td>\n",
       "      <td>134.835802</td>\n",
       "      <td>11.301081</td>\n",
       "    </tr>\n",
       "  </tbody>\n",
       "</table>\n",
       "</div>"
      ],
      "text/plain": [
       "Ticker           GE          GME          IBM\n",
       "count   1513.000000  1513.000000  1513.000000\n",
       "mean       0.131837     0.523190     0.078563\n",
       "std        2.493789     9.281810     1.621035\n",
       "min      -15.159217   -60.000000   -12.850712\n",
       "25%       -1.106206    -2.814816    -0.647202\n",
       "50%        0.093607    -0.240969     0.107767\n",
       "75%        1.283354     2.551022     0.819477\n",
       "max       14.729964   134.835802    11.301081"
      ]
     },
     "execution_count": 21,
     "metadata": {},
     "output_type": "execute_result"
    }
   ],
   "source": [
    "stock_returns.describe()"
   ]
  },
  {
   "cell_type": "markdown",
   "metadata": {},
   "source": [
    "**Answer:** \n",
    "\n",
    "1. GME had the highest mean return, 0.52%\n",
    "2. GME had the highest one-day return, 134.8%"
   ]
  },
  {
   "cell_type": "markdown",
   "metadata": {},
   "source": [
    "### c. The code below computes monthly stock returns and prints summary statistics for these returns\n",
    "\n",
    "Which stock was the most volatile, that is, which stock has the highest 'std'?"
   ]
  },
  {
   "cell_type": "code",
   "execution_count": 23,
   "metadata": {},
   "outputs": [
    {
     "data": {
      "text/html": [
       "<div>\n",
       "<style scoped>\n",
       "    .dataframe tbody tr th:only-of-type {\n",
       "        vertical-align: middle;\n",
       "    }\n",
       "\n",
       "    .dataframe tbody tr th {\n",
       "        vertical-align: top;\n",
       "    }\n",
       "\n",
       "    .dataframe thead th {\n",
       "        text-align: right;\n",
       "    }\n",
       "</style>\n",
       "<table border=\"1\" class=\"dataframe\">\n",
       "  <thead>\n",
       "    <tr style=\"text-align: right;\">\n",
       "      <th>Ticker</th>\n",
       "      <th>GE</th>\n",
       "      <th>GME</th>\n",
       "      <th>IBM</th>\n",
       "    </tr>\n",
       "  </thead>\n",
       "  <tbody>\n",
       "    <tr>\n",
       "      <th>count</th>\n",
       "      <td>73.000000</td>\n",
       "      <td>73.000000</td>\n",
       "      <td>73.000000</td>\n",
       "    </tr>\n",
       "    <tr>\n",
       "      <th>mean</th>\n",
       "      <td>2.716375</td>\n",
       "      <td>25.109000</td>\n",
       "      <td>1.598024</td>\n",
       "    </tr>\n",
       "    <tr>\n",
       "      <th>std</th>\n",
       "      <td>11.185939</td>\n",
       "      <td>191.950223</td>\n",
       "      <td>6.936032</td>\n",
       "    </tr>\n",
       "    <tr>\n",
       "      <th>min</th>\n",
       "      <td>-26.949572</td>\n",
       "      <td>-68.695385</td>\n",
       "      <td>-14.767581</td>\n",
       "    </tr>\n",
       "    <tr>\n",
       "      <th>25%</th>\n",
       "      <td>-3.346534</td>\n",
       "      <td>-12.369939</td>\n",
       "      <td>-3.333188</td>\n",
       "    </tr>\n",
       "    <tr>\n",
       "      <th>50%</th>\n",
       "      <td>2.586633</td>\n",
       "      <td>-1.956064</td>\n",
       "      <td>1.692594</td>\n",
       "    </tr>\n",
       "    <tr>\n",
       "      <th>75%</th>\n",
       "      <td>8.194607</td>\n",
       "      <td>13.228675</td>\n",
       "      <td>6.288633</td>\n",
       "    </tr>\n",
       "    <tr>\n",
       "      <th>max</th>\n",
       "      <td>37.196818</td>\n",
       "      <td>1625.053065</td>\n",
       "      <td>16.673905</td>\n",
       "    </tr>\n",
       "  </tbody>\n",
       "</table>\n",
       "</div>"
      ],
      "text/plain": [
       "Ticker         GE          GME        IBM\n",
       "count   73.000000    73.000000  73.000000\n",
       "mean     2.716375    25.109000   1.598024\n",
       "std     11.185939   191.950223   6.936032\n",
       "min    -26.949572   -68.695385 -14.767581\n",
       "25%     -3.346534   -12.369939  -3.333188\n",
       "50%      2.586633    -1.956064   1.692594\n",
       "75%      8.194607    13.228675   6.288633\n",
       "max     37.196818  1625.053065  16.673905"
      ]
     },
     "execution_count": 23,
     "metadata": {},
     "output_type": "execute_result"
    }
   ],
   "source": [
    "monthly_stock_returns = 100 * ((1 + stock_data.xs('Close', axis=1, level=0).pct_change()).resample('M').prod() - 1)\n",
    "monthly_stock_returns.describe()"
   ]
  },
  {
   "cell_type": "markdown",
   "metadata": {},
   "source": [
    "**Answer:** \n",
    "\n",
    "GME was the most volatile with a standard deviation of monthly returns of 192%"
   ]
  },
  {
   "cell_type": "markdown",
   "metadata": {},
   "source": [
    "### d. Execute the code below to plot the cumulative returns for the three stocks over the sample period\n",
    "\n",
    "The 'figsize' argument controls the shape of the plot. With a tuple (8, 10), the plot is 8 inches wide and 10 inches high. \n",
    "- Change this argument so that the plot looks nice.\n",
    "- Also add a title to the chart by adding ```, title='your title here'``` inside the ```plot()``` to label the chart\n",
    "\n",
    "Note: \n",
    "- The command below does 'method chaining' -- the line first computes the cumulative product of 1 + returns and the plots the result\n",
    "  - If the daily returns are 1%, 3%, -5%,... the cumulative return would be (1 + 1%) * (1 + 3%) * (1 + -5%) - 1. \n",
    "  - The code below first converts returns to decimals, adds one, and takes the cumulative product\n",
    "  - It then subtracts of 1 and plots the resulting ```Series```\n",
    "- We *could* do this in a few steps\n",
    "- But we often do method chaining in Python if we don't really need to save the intermediate results"
   ]
  },
  {
   "cell_type": "code",
   "execution_count": 27,
   "metadata": {},
   "outputs": [
    {
     "data": {
      "text/plain": [
       "<AxesSubplot:xlabel='Date'>"
      ]
     },
     "execution_count": 27,
     "metadata": {},
     "output_type": "execute_result"
    },
    {
     "data": {
      "image/png": "[encoded data removed]",
      "text/plain": [
       "<Figure size 576x720 with 1 Axes>"
      ]
     },
     "metadata": {
      "needs_background": "light"
     },
     "output_type": "display_data"
    }
   ],
   "source": [
    "((1 + stock_returns / 100).cumprod() - 1).plot(figsize=(8,10))"
   ]
  },
  {
   "cell_type": "markdown",
   "metadata": {},
   "source": [
    "### e. The command below computes return correlations between the three stocks. The results are displayed in a symmetric 3x3 table \n",
    "\n",
    "Correlations are important in that they tell us how closely different stocks track each other\n",
    "\n",
    "- A number of 1.0 would indicate that the two stocks always move in perfect proportion to each other\n",
    "- A number of -1.0 would indicate that the two stocks always move in *opposite directions* in perfect proportion\n",
    "- A number of 0 would indicates that the two stocks are uncorrelated (think \"unrelated\")\n",
    "\n",
    "Which two stocks display the highest correlation?\n",
    "\n",
    "Which two stocks display the lowest correlation?"
   ]
  },
  {
   "cell_type": "code",
   "execution_count": 28,
   "metadata": {},
   "outputs": [
    {
     "data": {
      "text/html": [
       "<div>\n",
       "<style scoped>\n",
       "    .dataframe tbody tr th:only-of-type {\n",
       "        vertical-align: middle;\n",
       "    }\n",
       "\n",
       "    .dataframe tbody tr th {\n",
       "        vertical-align: top;\n",
       "    }\n",
       "\n",
       "    .dataframe thead th {\n",
       "        text-align: right;\n",
       "    }\n",
       "</style>\n",
       "<table border=\"1\" class=\"dataframe\">\n",
       "  <thead>\n",
       "    <tr style=\"text-align: right;\">\n",
       "      <th>Ticker</th>\n",
       "      <th>GE</th>\n",
       "      <th>GME</th>\n",
       "      <th>IBM</th>\n",
       "    </tr>\n",
       "    <tr>\n",
       "      <th>Ticker</th>\n",
       "      <th></th>\n",
       "      <th></th>\n",
       "      <th></th>\n",
       "    </tr>\n",
       "  </thead>\n",
       "  <tbody>\n",
       "    <tr>\n",
       "      <th>GE</th>\n",
       "      <td>1.00</td>\n",
       "      <td>0.14</td>\n",
       "      <td>0.47</td>\n",
       "    </tr>\n",
       "    <tr>\n",
       "      <th>GME</th>\n",
       "      <td>0.14</td>\n",
       "      <td>1.00</td>\n",
       "      <td>0.14</td>\n",
       "    </tr>\n",
       "    <tr>\n",
       "      <th>IBM</th>\n",
       "      <td>0.47</td>\n",
       "      <td>0.14</td>\n",
       "      <td>1.00</td>\n",
       "    </tr>\n",
       "  </tbody>\n",
       "</table>\n",
       "</div>"
      ],
      "text/plain": [
       "Ticker    GE   GME   IBM\n",
       "Ticker                  \n",
       "GE      1.00  0.14  0.47\n",
       "GME     0.14  1.00  0.14\n",
       "IBM     0.47  0.14  1.00"
      ]
     },
     "execution_count": 28,
     "metadata": {},
     "output_type": "execute_result"
    }
   ],
   "source": [
    "stock_returns.corr().round(2)"
   ]
  },
  {
   "cell_type": "markdown",
   "metadata": {},
   "source": [
    "**Answer:** \n",
    "\n",
    "1. GE and IBM have realized a correlation of **0.47**\n",
    "2. The correlation between IBM and Gamestop (and GE and Gamestop as well) is **0.14**"
   ]
  }
 ],
 "metadata": {
  "kernelspec": {
   "display_name": "Python 3",
   "language": "python",
   "name": "python3"
  },
  "language_info": {
   "codemirror_mode": {
    "name": "ipython",
    "version": 3
   },
   "file_extension": ".py",
   "mimetype": "text/x-python",
   "name": "python",
   "nbconvert_exporter": "python",
   "pygments_lexer": "ipython3",
   "version": "3.8.18"
  }
 },
 "nbformat": 4,
 "nbformat_minor": 4
}
